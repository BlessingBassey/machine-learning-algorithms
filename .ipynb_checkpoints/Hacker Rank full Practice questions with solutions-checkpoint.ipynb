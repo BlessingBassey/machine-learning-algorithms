{
 "cells": [
  {
   "cell_type": "code",
   "execution_count": 52,
   "metadata": {},
   "outputs": [
    {
     "name": "stdout",
     "output_type": "stream",
     "text": [
      "3\n",
      "4\n",
      "The sum is equal 7\n"
     ]
    }
   ],
   "source": [
    "#Complete the function solveMeFirst to compute the sum of two integers.\n",
    "def summ(x,y):\n",
    "    return x+y\n",
    "\n",
    "first_num = int(input())\n",
    "second_num = int(input())\n",
    "result = summ(first_num,second_num)\n",
    "\n",
    "print('The sum is equal',result)\n"
   ]
  },
  {
   "cell_type": "code",
   "execution_count": 54,
   "metadata": {},
   "outputs": [
    {
     "data": {
      "text/plain": [
       "15"
      ]
     },
     "execution_count": 54,
     "metadata": {},
     "output_type": "execute_result"
    }
   ],
   "source": [
    "#Given an array of integers, find the sum of its elements.\n",
    "import os\n",
    "import sys\n",
    "\n",
    "def simpleArraySum(ar):\n",
    "    summ = 0\n",
    "    for i in range(len(ar)):\n",
    "        summ += ar[i]\n",
    "    return summ \n",
    "\n",
    "#Example\n",
    "simpleArraySum([1,2,3,4,5])\n",
    " \n",
    "   "
   ]
  },
  {
   "cell_type": "code",
   "execution_count": 55,
   "metadata": {},
   "outputs": [
    {
     "data": {
      "text/plain": [
       "[1, 2]"
      ]
     },
     "execution_count": 55,
     "metadata": {},
     "output_type": "execute_result"
    }
   ],
   "source": [
    "#Comapring each element in 2 list, which ever is bigger receives a point, if they are equal, no point for any one\n",
    "# i.e  comparing triplet\n",
    "import numpy as np\n",
    "def compareTriplets(a, b):\n",
    "    Alice =0\n",
    "    Bob = 0\n",
    "\n",
    "    for i in range(len(b)):        \n",
    "        if a[i] > b[i]:\n",
    "            Alice+=1\n",
    "        elif a[i] == b[i]:\n",
    "            print('Nobody receives a point')\n",
    "        elif a[i] < b[i]:\n",
    "            Bob+=1\n",
    "    return [Alice,Bob]\n",
    "\n",
    "#Example\n",
    "a = np.array([1,2,3])\n",
    "b = np.array([3,4,2])\n",
    "\n",
    "compareTriplets(a, b)"
   ]
  },
  {
   "cell_type": "code",
   "execution_count": 57,
   "metadata": {},
   "outputs": [
    {
     "data": {
      "text/plain": [
       "9"
      ]
     },
     "execution_count": 57,
     "metadata": {},
     "output_type": "execute_result"
    }
   ],
   "source": [
    "# Complete the aVeryBigSum function below.\n",
    "def aVeryBigSum(ar):\n",
    "    summmmm = 0\n",
    "    for i in ar:\n",
    "        summmmm = summmmm + i\n",
    "    return summmmm\n",
    "\n",
    "#Example\n",
    "Big = np.array([2,3,4])\n",
    "aVeryBigSum (Big)"
   ]
  },
  {
   "cell_type": "code",
   "execution_count": 198,
   "metadata": {},
   "outputs": [],
   "source": [
    "def matrixdiagonal_1(arr):\n",
    "    left = 0\n",
    "    right = 0\n",
    "    for i in range(len(arr)):\n",
    "        for j in range(len(arr)):\n",
    "            \n",
    "            if i==j:\n",
    "                left += arr[i,j]\n",
    "            \n",
    "            if i+j == len(arr)-1:\n",
    "                    right += arr[i,j]\n",
    "                    \n",
    "    diff = left-right                \n",
    "    print(left)\n",
    "    print(right)\n",
    "    return diff\n",
    "                \n",
    "    "
   ]
  },
  {
   "cell_type": "code",
   "execution_count": 199,
   "metadata": {
    "scrolled": true
   },
   "outputs": [
    {
     "data": {
      "text/plain": [
       "array([[ 2, 44,  4],\n",
       "       [ 5,  6,  7],\n",
       "       [ 3,  5,  6]])"
      ]
     },
     "execution_count": 199,
     "metadata": {},
     "output_type": "execute_result"
    }
   ],
   "source": [
    "r = np.array([[2,44,4],[5,6,7],[3,5,6]])\n",
    "r"
   ]
  },
  {
   "cell_type": "code",
   "execution_count": 200,
   "metadata": {},
   "outputs": [
    {
     "name": "stdout",
     "output_type": "stream",
     "text": [
      "14\n",
      "13\n"
     ]
    },
    {
     "data": {
      "text/plain": [
       "1"
      ]
     },
     "execution_count": 200,
     "metadata": {},
     "output_type": "execute_result"
    }
   ],
   "source": [
    "matrixdiagonal_1(r)\n"
   ]
  },
  {
   "cell_type": "code",
   "execution_count": 214,
   "metadata": {},
   "outputs": [
    {
     "data": {
      "text/plain": [
       "1"
      ]
     },
     "execution_count": 214,
     "metadata": {},
     "output_type": "execute_result"
    }
   ],
   "source": [
    "def matrixdiagonal_2(arr):\n",
    "    n = len(arr)\n",
    "    left = 0\n",
    "    right = 0\n",
    "    for i in range(n):\n",
    "        left += arr[i, i]\n",
    "        right += arr[i, n - i - 1]\n",
    "        #print(left)\n",
    "        #print(right)\n",
    "\n",
    "    return left-right\n",
    "\n",
    "matrixdiagonal_2(r)"
   ]
  },
  {
   "cell_type": "code",
   "execution_count": 213,
   "metadata": {},
   "outputs": [
    {
     "name": "stdout",
     "output_type": "stream",
     "text": [
      "14\n",
      "13\n"
     ]
    },
    {
     "data": {
      "text/plain": [
       "1"
      ]
     },
     "execution_count": 213,
     "metadata": {},
     "output_type": "execute_result"
    }
   ],
   "source": [
    "def diagonalDifference(arr):\n",
    "    # Write your code here\n",
    "\n",
    "    n = len(arr)\n",
    "    left = 0\n",
    "    right = 0\n",
    "    for i in range(n):\n",
    "        left += arr[i][i]\n",
    "        right += arr[i][n - i - 1]\n",
    "        #print(left)\n",
    "        #print(right)\n",
    "\n",
    "    return abs(left-right)\n"
   ]
  },
  {
   "cell_type": "code",
   "execution_count": 215,
   "metadata": {},
   "outputs": [
    {
     "name": "stdout",
     "output_type": "stream",
     "text": [
      "0.500000\n",
      "0.333333\n",
      "0.166667\n"
     ]
    }
   ],
   "source": [
    "import math \n",
    "\n",
    "def plusMinus(arr):\n",
    "    positive_num = []\n",
    "    negavtive_num = []\n",
    "    zeros = []\n",
    "    \n",
    "    for i in (arr):\n",
    "        if i > 0:\n",
    "            positive_num.append(i)\n",
    "        if i < 0:\n",
    "            negavtive_num.append(i)\n",
    "        if i == 0:\n",
    "            zeros.append(i)\n",
    "    a = len(positive_num)/len(arr)\n",
    "    b = len(negavtive_num)/len(arr)\n",
    "    c = len(zeros)/len(arr)\n",
    "            \n",
    "    #return positive_num,negavtive_num,zeros\n",
    "    #print round((a,6),(b,6),(c,6))\n",
    "    \n",
    "    print (end=\"\") \n",
    "    print (\"{0:.6f}\".format(a)) \n",
    "    \n",
    "    print (end=\"\") \n",
    "    print (\"{0:.6f}\".format(b))\n",
    "    \n",
    "    print (end=\"\") \n",
    "    print (\"{0:.6f}\".format(c))\n",
    "\n",
    "    \n",
    "# Example\n",
    "a = np.array([-4, 3, -9 ,0, 4, 1])\n",
    "plusMinus(a)\n",
    "    \n",
    "    "
   ]
  },
  {
   "cell_type": "code",
   "execution_count": 218,
   "metadata": {},
   "outputs": [
    {
     "name": "stdout",
     "output_type": "stream",
     "text": [
      "     #\n",
      "    ##\n",
      "   ###\n",
      "  ####\n",
      " #####\n",
      "######\n"
     ]
    }
   ],
   "source": [
    "def staircase(n):\n",
    "    for i in range(1,n+1):        \n",
    "        print(\" \"*(n-i) + '#'*i)\n",
    "\n",
    "        \n",
    "# Example\n",
    "staircase(6)     "
   ]
  },
  {
   "cell_type": "code",
   "execution_count": null,
   "metadata": {},
   "outputs": [],
   "source": [
    "def miniMaxSum1(arr):\n",
    "    sorting = sorted(arr)\n",
    "    min_list = sorting[0:-1]\n",
    "\n",
    "    max_list = sorting[1:]\n",
    "\n",
    "    minni = 0\n",
    "    maxxi = 0\n",
    "    \n",
    "\n",
    "    for i in (min_list):\n",
    "        minni += i\n",
    "    \n",
    "    for j in (max_list):\n",
    "        maxxi += j\n",
    "    final = minni,maxxi\n",
    "    print(minni,maxxi)\n",
    "    \n",
    "#This code above can be optimize as follows, for better computational complexity.\n",
    "    \n",
    "    \n",
    "def miniMaxSum2(arr):\n",
    "    min=10**10\n",
    "    max = -1\n",
    "    idx_min=-1\n",
    "    idx_max=-1\n",
    "    \n",
    "    for i, x in enumerate(arr):\n",
    "        if min>x:\n",
    "            min=x\n",
    "            idx_min=i\n",
    "        if max<x:\n",
    "            max=x\n",
    "            idx_max=i\n",
    "    \n",
    "    minni = sum([arr[i] for i in range(len(arr))  if i!= idx_max])\n",
    "    maxxi = sum([arr[i] for i in range(len(arr))  if i!= idx_min])\n",
    "\n",
    "    print(minni,maxxi) \n",
    "\n",
    "\n",
    "b = [random.randint(1,100) for i in range(10**7)]\n",
    "        \n",
    "miniMaxSum1(b)    \n",
    "miniMaxSum2(b)"
   ]
  }
 ],
 "metadata": {
  "kernelspec": {
   "display_name": "Python 3",
   "language": "python",
   "name": "python3"
  },
  "language_info": {
   "codemirror_mode": {
    "name": "ipython",
    "version": 3
   },
   "file_extension": ".py",
   "mimetype": "text/x-python",
   "name": "python",
   "nbconvert_exporter": "python",
   "pygments_lexer": "ipython3",
   "version": "3.7.3"
  }
 },
 "nbformat": 4,
 "nbformat_minor": 2
}
