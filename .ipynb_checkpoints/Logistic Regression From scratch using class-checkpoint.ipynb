{
 "cells": [
  {
   "cell_type": "code",
   "execution_count": 1,
   "metadata": {},
   "outputs": [],
   "source": [
    "import random as rd\n",
    "import numpy as np\n",
    "import seaborn as sn\n",
    "import pandas as pd\n",
    "import matplotlib.pyplot as p\n",
    "\n",
    "from sklearn import datasets\n",
    "from sklearn.utils import shuffle\n",
    "iris = datasets.load_iris()"
   ]
  },
  {
   "cell_type": "code",
   "execution_count": 2,
   "metadata": {},
   "outputs": [],
   "source": [
    "data = pd.DataFrame(data = np.c_[iris.data, iris.target], columns=iris[\"feature_names\"] + [\"target\"])\n",
    "data = shuffle(data)\n"
   ]
  },
  {
   "cell_type": "code",
   "execution_count": 3,
   "metadata": {},
   "outputs": [],
   "source": [
    "x = data.drop(\"target\", axis=1)\n",
    "y = (data.target!=0) * 1"
   ]
  },
  {
   "cell_type": "code",
   "execution_count": 4,
   "metadata": {},
   "outputs": [],
   "source": [
    "X = x.values\n",
    "Y = y.values\n",
    "Y = Y.reshape(-1,1)"
   ]
  },
  {
   "cell_type": "code",
   "execution_count": 5,
   "metadata": {},
   "outputs": [
    {
     "data": {
      "text/plain": [
       "((150, 4), (150, 1))"
      ]
     },
     "execution_count": 5,
     "metadata": {},
     "output_type": "execute_result"
    }
   ],
   "source": [
    "X.shape,Y.shape"
   ]
  },
  {
   "cell_type": "code",
   "execution_count": 6,
   "metadata": {},
   "outputs": [],
   "source": [
    "def split_data(X, y, percent=1.0):\n",
    "    np.random.seed(2)\n",
    "    order = np.random.permutation(len(X))\n",
    "    split = int(len(X)*0.8)\n",
    "    X_shuffled = X[order]\n",
    "    y_shuffled = Y[order]\n",
    "        \n",
    "    Train_X = X_shuffled[:split]\n",
    "    Train_Y = y_shuffled[:split]\n",
    "    \n",
    "    Test_X = X_shuffled[split:]\n",
    "    Test_Y = y_shuffled[split:]\n",
    "    \n",
    "    return Train_X, Train_Y, Test_X, Test_Y"
   ]
  },
  {
   "cell_type": "code",
   "execution_count": 7,
   "metadata": {},
   "outputs": [],
   "source": [
    "Train_X, Train_Y, Test_X, Test_Y =  split_data(X, Y, percent=1.0)"
   ]
  },
  {
   "cell_type": "code",
   "execution_count": 8,
   "metadata": {},
   "outputs": [],
   "source": [
    "class Logistic_regression:\n",
    "    def __init__(self, lr = 0.01, iterations = 1000,print_out=False):\n",
    "        self.lr = lr\n",
    "        self.iterations = iterations\n",
    "                    \n",
    "        self.print_out = print_out\n",
    "        \n",
    "    def add_ones(self, X):\n",
    "        return np.hstack((np.ones((len(X),1)),X))\n",
    "        \n",
    "    def sigmoid(self,x):\n",
    "        return 1/(1+ np.exp(-x))\n",
    "    \n",
    "    \n",
    "    def gradient(self,X,Y,Y_pred):\n",
    "        error = Y - Y_pred\n",
    "        grad = np.dot(X.T,error)\n",
    "\n",
    "        cost = -(1/self.m) *np.sum(Y*np.log(Y_pred) + (1-Y) * np.log(1-Y_pred))    \n",
    "        return grad, cost  \n",
    "    \n",
    "        \n",
    "    def fit(self, train_data, train_labels):\n",
    "        self.train_labels = train_labels\n",
    "        self.train_data = self.add_ones(train_data)\n",
    "        \n",
    "        self.m,self.n = self.train_data.shape\n",
    "        self.params = np.zeros((self.n,1))\n",
    "        \n",
    "        for i in range(self.iterations):\n",
    "            Y_pred = self.sigmoid(np.matmul(self.train_data,self.params))\n",
    "            grad,cost = self.gradient(self.train_data,self.train_labels,Y_pred)\n",
    "            \n",
    "            self.params = self.params + self.lr * grad\n",
    " \n",
    "            if i % 100 ==0 and self.print_out:\n",
    "                print('cost for iteration:', i, ' , ', cost)\n",
    "\n",
    "    def pred(self,X_test):\n",
    "        X = self.add_ones(X_test)\n",
    "        Y_pred = self.sigmoid(np.dot(X,self.params)).round()\n",
    "        return Y_pred\n",
    "    \n",
    "    def accuracy(self,X_test,Y_test):\n",
    "        Y_pred = self.pred(X_test)\n",
    "        accu = np.sum(Y_pred == Y_test)/ len(Y_test) ###Acuracy\n",
    "        return accu     "
   ]
  },
  {
   "cell_type": "code",
   "execution_count": 9,
   "metadata": {},
   "outputs": [
    {
     "data": {
      "text/plain": [
       "1.0"
      ]
     },
     "execution_count": 9,
     "metadata": {},
     "output_type": "execute_result"
    }
   ],
   "source": [
    "lr = Logistic_regression(lr=0.001)\n",
    "lr.fit(Train_X,Train_Y)\n",
    "\n",
    "lr.accuracy(Test_X,Test_Y)"
   ]
  },
  {
   "cell_type": "code",
   "execution_count": 10,
   "metadata": {},
   "outputs": [
    {
     "data": {
      "text/plain": [
       "['sepal length (cm)',\n",
       " 'sepal width (cm)',\n",
       " 'petal length (cm)',\n",
       " 'petal width (cm)']"
      ]
     },
     "execution_count": 10,
     "metadata": {},
     "output_type": "execute_result"
    }
   ],
   "source": [
    "colnames = iris['feature_names']\n",
    "colnames"
   ]
  },
  {
   "cell_type": "code",
   "execution_count": 11,
   "metadata": {},
   "outputs": [
    {
     "data": {
      "text/plain": [
       "1.0"
      ]
     },
     "execution_count": 11,
     "metadata": {},
     "output_type": "execute_result"
    }
   ],
   "source": [
    "lr.accuracy(Train_X,Train_Y)"
   ]
  },
  {
   "cell_type": "code",
   "execution_count": null,
   "metadata": {},
   "outputs": [],
   "source": []
  },
  {
   "cell_type": "code",
   "execution_count": null,
   "metadata": {},
   "outputs": [],
   "source": []
  },
  {
   "cell_type": "code",
   "execution_count": null,
   "metadata": {},
   "outputs": [],
   "source": []
  }
 ],
 "metadata": {
  "kernelspec": {
   "display_name": "Python 3",
   "language": "python",
   "name": "python3"
  },
  "language_info": {
   "codemirror_mode": {
    "name": "ipython",
    "version": 3
   },
   "file_extension": ".py",
   "mimetype": "text/x-python",
   "name": "python",
   "nbconvert_exporter": "python",
   "pygments_lexer": "ipython3",
   "version": "3.7.3"
  }
 },
 "nbformat": 4,
 "nbformat_minor": 2
}
