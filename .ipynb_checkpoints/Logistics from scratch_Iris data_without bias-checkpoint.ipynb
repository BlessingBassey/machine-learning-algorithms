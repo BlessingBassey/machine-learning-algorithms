{
 "cells": [
  {
   "cell_type": "code",
   "execution_count": 1,
   "metadata": {},
   "outputs": [],
   "source": [
    "import random as rd\n",
    "import numpy as np\n",
    "import seaborn as sn\n",
    "import pandas as pd\n",
    "import matplotlib.pyplot as plt"
   ]
  },
  {
   "cell_type": "code",
   "execution_count": 2,
   "metadata": {},
   "outputs": [],
   "source": [
    "from sklearn import datasets\n",
    "iris = datasets.load_iris()\n",
    "x = iris.data[:, :]\n",
    "Y = (iris.target != 0) * 1       #since we only need 2 labels, we can convert the 2's into 1"
   ]
  },
  {
   "cell_type": "code",
   "execution_count": 3,
   "metadata": {},
   "outputs": [],
   "source": [
    "x=np.insert(x,0,1,axis=1)                  #Adding a bias term\n",
    "shf=np.random.permutation(len(Y))\n",
    "Y=Y[shf]\n",
    "X=x[shf]"
   ]
  },
  {
   "cell_type": "code",
   "execution_count": 4,
   "metadata": {
    "scrolled": false
   },
   "outputs": [],
   "source": [
    "def split (X,Y):\n",
    "    split = int(len(Y)*0.2)\n",
    "    X_test = X[:split,:]\n",
    "    Y_test = Y[:split]\n",
    "    X_train = X[split:,:]\n",
    "    Y_train = Y[split:]\n",
    "\n",
    "    return X_train, X_test, Y_train, Y_test\n",
    "\n",
    "X_train, X_test, Y_train, Y_test=split (X,Y)"
   ]
  },
  {
   "cell_type": "code",
   "execution_count": 5,
   "metadata": {},
   "outputs": [],
   "source": [
    "def sigmoid(z):\n",
    "    return 1/(1+ np.exp(-z))"
   ]
  },
  {
   "cell_type": "code",
   "execution_count": 6,
   "metadata": {},
   "outputs": [],
   "source": [
    "def gradient(X,Y,Y_pred):\n",
    "    m,n = X.shape\n",
    "    Y = Y.reshape(-1,1)\n",
    "    Y_pred = Y_pred.reshape(-1,1)\n",
    "    error = Y_pred - Y \n",
    "    grad = 1/m * np.sum(error * X, axis = 0)\n",
    "    \n",
    "    cost = (1/m) *np.sum(-Y*np.log(Y_pred) - (1-Y) * np.log(1-Y_pred))    \n",
    "    return grad, cost\n",
    "    "
   ]
  },
  {
   "cell_type": "code",
   "execution_count": 7,
   "metadata": {},
   "outputs": [
    {
     "name": "stdout",
     "output_type": "stream",
     "text": [
      "cost for iteration 0  ,  0.6931471805599453\n",
      "cost for iteration 10  ,  0.5403021472763356\n",
      "cost for iteration 20  ,  0.5010633286623655\n",
      "cost for iteration 30  ,  0.4701774992305219\n",
      "cost for iteration 40  ,  0.4423654020028632\n",
      "cost for iteration 50  ,  0.4170313738496631\n",
      "cost for iteration 60  ,  0.39392151707245565\n",
      "cost for iteration 70  ,  0.37282084194746\n",
      "cost for iteration 80  ,  0.35353152212694994\n",
      "cost for iteration 90  ,  0.3358723290585058\n"
     ]
    }
   ],
   "source": [
    "def fit (X, Y):\n",
    "    learning_rate = 0.01\n",
    "    m,n = X_train.shape\n",
    "    theta = np.zeros(n)\n",
    "\n",
    "    for iteration in range (100):\n",
    "        Y_pred = sigmoid(np.matmul(X_train,theta))\n",
    "        grad,cost = gradient(X_train,Y_train,Y_pred)\n",
    "        theta = theta - learning_rate * grad\n",
    "        \n",
    "        if iteration%10 ==0:\n",
    "            print('cost for iteration', iteration, ' , ', cost)\n",
    "    return theta\n",
    "        \n",
    "theta = fit (X_train,Y_train)"
   ]
  },
  {
   "cell_type": "code",
   "execution_count": 8,
   "metadata": {},
   "outputs": [
    {
     "data": {
      "text/plain": [
       "array([0., 1., 1., 0., 1., 1., 0., 1., 1., 0., 1., 0., 0., 1., 0., 1., 1.,\n",
       "       1., 0., 1., 1., 1., 1., 1., 1., 0., 1., 1., 1., 1.])"
      ]
     },
     "execution_count": 8,
     "metadata": {},
     "output_type": "execute_result"
    }
   ],
   "source": [
    "def pred(X,theta):\n",
    "    Y_pred = sigmoid(np.matmul(X_test,theta)).round()\n",
    "    \n",
    "    return Y_pred,theta\n",
    "    \n",
    "Y_pred,theta= pred(X_test,theta)\n",
    "#theta                                               To print the corresponding theta for the 5 variables\n",
    "Y_pred"
   ]
  },
  {
   "cell_type": "code",
   "execution_count": 9,
   "metadata": {},
   "outputs": [
    {
     "data": {
      "text/plain": [
       "array([0, 1, 1, 0, 1, 1, 0, 0, 1, 0, 1, 0, 0, 1, 0, 1, 1, 1, 0, 1, 1, 1,\n",
       "       1, 1, 1, 0, 1, 1, 1, 1])"
      ]
     },
     "execution_count": 9,
     "metadata": {},
     "output_type": "execute_result"
    }
   ],
   "source": [
    "Y_test"
   ]
  },
  {
   "cell_type": "code",
   "execution_count": 10,
   "metadata": {},
   "outputs": [
    {
     "data": {
      "text/plain": [
       "0.9666666666666667"
      ]
     },
     "execution_count": 10,
     "metadata": {},
     "output_type": "execute_result"
    }
   ],
   "source": [
    "def accuracy(Y,Y_pred):\n",
    "    accu = np.sum(Y_pred == Y_test)/ len(Y_test) ###Acuracy\n",
    "    return accu\n",
    "\n",
    "accu = accuracy(Y_test,Y_pred)\n",
    "accu"
   ]
  },
  {
   "cell_type": "code",
   "execution_count": null,
   "metadata": {},
   "outputs": [],
   "source": []
  },
  {
   "cell_type": "code",
   "execution_count": null,
   "metadata": {},
   "outputs": [],
   "source": []
  },
  {
   "cell_type": "code",
   "execution_count": null,
   "metadata": {},
   "outputs": [],
   "source": []
  }
 ],
 "metadata": {
  "kernelspec": {
   "display_name": "Python 3",
   "language": "python",
   "name": "python3"
  },
  "language_info": {
   "codemirror_mode": {
    "name": "ipython",
    "version": 3
   },
   "file_extension": ".py",
   "mimetype": "text/x-python",
   "name": "python",
   "nbconvert_exporter": "python",
   "pygments_lexer": "ipython3",
   "version": "3.7.3"
  }
 },
 "nbformat": 4,
 "nbformat_minor": 2
}
