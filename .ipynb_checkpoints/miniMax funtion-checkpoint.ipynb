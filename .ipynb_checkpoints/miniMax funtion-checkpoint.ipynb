{
 "cells": [
  {
   "cell_type": "code",
   "execution_count": 273,
   "metadata": {},
   "outputs": [
    {
     "name": "stdout",
     "output_type": "stream",
     "text": [
      "505132540 505132639\n",
      "505132540 505132639\n"
     ]
    }
   ],
   "source": [
    "def miniMaxSum1(arr):\n",
    "    sorting = sorted(arr)\n",
    "    min_list = sorting[0:-1]\n",
    "\n",
    "    max_list = sorting[1:]\n",
    "\n",
    "    minni = 0\n",
    "    maxxi = 0\n",
    "    \n",
    "\n",
    "    for i in (min_list):\n",
    "        minni += i\n",
    "    \n",
    "    for j in (max_list):\n",
    "        maxxi += j\n",
    "    final = minni,maxxi\n",
    "    print(minni,maxxi)\n",
    "    \n",
    "#This code above can be optimize as follows, for better computational complexity.\n",
    "    \n",
    "    \n",
    "def miniMaxSum2(arr):\n",
    "    min=10**10\n",
    "    max = -1\n",
    "    idx_min=-1\n",
    "    idx_max=-1\n",
    "    \n",
    "    for i, x in enumerate(arr):\n",
    "        if min>x:\n",
    "            min=x\n",
    "            idx_min=i\n",
    "        if max<x:\n",
    "            max=x\n",
    "            idx_max=i\n",
    "    \n",
    "    minni = sum([arr[i] for i in range(len(arr))  if i!= idx_max])\n",
    "    maxxi = sum([arr[i] for i in range(len(arr))  if i!= idx_min])\n",
    "\n",
    "    print(minni,maxxi) \n",
    "\n",
    "\n",
    "b = [random.randint(1,100) for i in range(10**7)]\n",
    "        \n",
    "miniMaxSum1(b)    \n",
    "miniMaxSum2(b)"
   ]
  },
  {
   "cell_type": "code",
   "execution_count": 274,
   "metadata": {},
   "outputs": [],
   "source": [
    "import time\n"
   ]
  },
  {
   "cell_type": "code",
   "execution_count": 275,
   "metadata": {},
   "outputs": [
    {
     "name": "stdout",
     "output_type": "stream",
     "text": [
      "505069417 505069516\n",
      "1.5656330585479736\n"
     ]
    }
   ],
   "source": [
    "start = time.time()\n",
    "miniMaxSum1(arr)\n",
    "end = time.time()\n",
    "print(end-start)"
   ]
  },
  {
   "cell_type": "code",
   "execution_count": 276,
   "metadata": {},
   "outputs": [
    {
     "name": "stdout",
     "output_type": "stream",
     "text": [
      "505069417 505069516\n",
      "1.4453942775726318\n"
     ]
    }
   ],
   "source": [
    "start = time.time()\n",
    "miniMaxSum2(arr)\n",
    "end = time.time()\n",
    "print(end-start)"
   ]
  },
  {
   "cell_type": "code",
   "execution_count": null,
   "metadata": {},
   "outputs": [],
   "source": []
  }
 ],
 "metadata": {
  "kernelspec": {
   "display_name": "Python 3",
   "language": "python",
   "name": "python3"
  },
  "language_info": {
   "codemirror_mode": {
    "name": "ipython",
    "version": 3
   },
   "file_extension": ".py",
   "mimetype": "text/x-python",
   "name": "python",
   "nbconvert_exporter": "python",
   "pygments_lexer": "ipython3",
   "version": "3.7.3"
  }
 },
 "nbformat": 4,
 "nbformat_minor": 2
}
