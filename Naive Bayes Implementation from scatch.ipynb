{
 "cells": [
  {
   "cell_type": "code",
   "execution_count": 1,
   "metadata": {},
   "outputs": [],
   "source": [
    "import numpy as np\n",
    "import pandas as pd\n",
    "import matplotlib.pyplot as plt\n",
    "%matplotlib inline\n",
    "import seaborn as sns"
   ]
  },
  {
   "cell_type": "code",
   "execution_count": 2,
   "metadata": {},
   "outputs": [
    {
     "data": {
      "text/html": [
       "<div>\n",
       "<style scoped>\n",
       "    .dataframe tbody tr th:only-of-type {\n",
       "        vertical-align: middle;\n",
       "    }\n",
       "\n",
       "    .dataframe tbody tr th {\n",
       "        vertical-align: top;\n",
       "    }\n",
       "\n",
       "    .dataframe thead th {\n",
       "        text-align: right;\n",
       "    }\n",
       "</style>\n",
       "<table border=\"1\" class=\"dataframe\">\n",
       "  <thead>\n",
       "    <tr style=\"text-align: right;\">\n",
       "      <th></th>\n",
       "      <th>Unnamed: 0</th>\n",
       "      <th>Unnamed: 0.1</th>\n",
       "      <th>urlDrugName</th>\n",
       "      <th>effectiveness</th>\n",
       "      <th>sideEffects</th>\n",
       "      <th>condition</th>\n",
       "      <th>benefitsReview</th>\n",
       "      <th>sideEffectsReview</th>\n",
       "      <th>commentsReview</th>\n",
       "      <th>rating_binary</th>\n",
       "    </tr>\n",
       "  </thead>\n",
       "  <tbody>\n",
       "    <tr>\n",
       "      <th>0</th>\n",
       "      <td>0</td>\n",
       "      <td>2202</td>\n",
       "      <td>0</td>\n",
       "      <td>0</td>\n",
       "      <td>1</td>\n",
       "      <td>0</td>\n",
       "      <td>0</td>\n",
       "      <td>0</td>\n",
       "      <td>0</td>\n",
       "      <td>0</td>\n",
       "    </tr>\n",
       "    <tr>\n",
       "      <th>1</th>\n",
       "      <td>1</td>\n",
       "      <td>3117</td>\n",
       "      <td>0</td>\n",
       "      <td>0</td>\n",
       "      <td>1</td>\n",
       "      <td>0</td>\n",
       "      <td>0</td>\n",
       "      <td>0</td>\n",
       "      <td>0</td>\n",
       "      <td>0</td>\n",
       "    </tr>\n",
       "    <tr>\n",
       "      <th>2</th>\n",
       "      <td>2</td>\n",
       "      <td>1146</td>\n",
       "      <td>0</td>\n",
       "      <td>0</td>\n",
       "      <td>1</td>\n",
       "      <td>0</td>\n",
       "      <td>0</td>\n",
       "      <td>0</td>\n",
       "      <td>1</td>\n",
       "      <td>1</td>\n",
       "    </tr>\n",
       "    <tr>\n",
       "      <th>3</th>\n",
       "      <td>3</td>\n",
       "      <td>3947</td>\n",
       "      <td>0</td>\n",
       "      <td>0</td>\n",
       "      <td>1</td>\n",
       "      <td>1</td>\n",
       "      <td>0</td>\n",
       "      <td>0</td>\n",
       "      <td>0</td>\n",
       "      <td>0</td>\n",
       "    </tr>\n",
       "    <tr>\n",
       "      <th>4</th>\n",
       "      <td>4</td>\n",
       "      <td>1951</td>\n",
       "      <td>0</td>\n",
       "      <td>0</td>\n",
       "      <td>1</td>\n",
       "      <td>0</td>\n",
       "      <td>0</td>\n",
       "      <td>0</td>\n",
       "      <td>0</td>\n",
       "      <td>0</td>\n",
       "    </tr>\n",
       "  </tbody>\n",
       "</table>\n",
       "</div>"
      ],
      "text/plain": [
       "   Unnamed: 0  Unnamed: 0.1  urlDrugName  effectiveness  sideEffects  \\\n",
       "0           0          2202            0              0            1   \n",
       "1           1          3117            0              0            1   \n",
       "2           2          1146            0              0            1   \n",
       "3           3          3947            0              0            1   \n",
       "4           4          1951            0              0            1   \n",
       "\n",
       "   condition  benefitsReview  sideEffectsReview  commentsReview  rating_binary  \n",
       "0          0               0                  0               0              0  \n",
       "1          0               0                  0               0              0  \n",
       "2          0               0                  0               1              1  \n",
       "3          1               0                  0               0              0  \n",
       "4          0               0                  0               0              0  "
      ]
     },
     "execution_count": 2,
     "metadata": {},
     "output_type": "execute_result"
    }
   ],
   "source": [
    "data = pd.read_csv('clean.csv')\n",
    "data.head()"
   ]
  },
  {
   "cell_type": "code",
   "execution_count": 3,
   "metadata": {},
   "outputs": [
    {
     "data": {
      "text/html": [
       "<div>\n",
       "<style scoped>\n",
       "    .dataframe tbody tr th:only-of-type {\n",
       "        vertical-align: middle;\n",
       "    }\n",
       "\n",
       "    .dataframe tbody tr th {\n",
       "        vertical-align: top;\n",
       "    }\n",
       "\n",
       "    .dataframe thead th {\n",
       "        text-align: right;\n",
       "    }\n",
       "</style>\n",
       "<table border=\"1\" class=\"dataframe\">\n",
       "  <thead>\n",
       "    <tr style=\"text-align: right;\">\n",
       "      <th></th>\n",
       "      <th>urlDrugName</th>\n",
       "      <th>effectiveness</th>\n",
       "      <th>sideEffects</th>\n",
       "      <th>condition</th>\n",
       "      <th>benefitsReview</th>\n",
       "      <th>sideEffectsReview</th>\n",
       "      <th>commentsReview</th>\n",
       "      <th>rating_binary</th>\n",
       "    </tr>\n",
       "  </thead>\n",
       "  <tbody>\n",
       "    <tr>\n",
       "      <th>0</th>\n",
       "      <td>0</td>\n",
       "      <td>0</td>\n",
       "      <td>1</td>\n",
       "      <td>0</td>\n",
       "      <td>0</td>\n",
       "      <td>0</td>\n",
       "      <td>0</td>\n",
       "      <td>0</td>\n",
       "    </tr>\n",
       "    <tr>\n",
       "      <th>1</th>\n",
       "      <td>0</td>\n",
       "      <td>0</td>\n",
       "      <td>1</td>\n",
       "      <td>0</td>\n",
       "      <td>0</td>\n",
       "      <td>0</td>\n",
       "      <td>0</td>\n",
       "      <td>0</td>\n",
       "    </tr>\n",
       "    <tr>\n",
       "      <th>2</th>\n",
       "      <td>0</td>\n",
       "      <td>0</td>\n",
       "      <td>1</td>\n",
       "      <td>0</td>\n",
       "      <td>0</td>\n",
       "      <td>0</td>\n",
       "      <td>1</td>\n",
       "      <td>1</td>\n",
       "    </tr>\n",
       "    <tr>\n",
       "      <th>3</th>\n",
       "      <td>0</td>\n",
       "      <td>0</td>\n",
       "      <td>1</td>\n",
       "      <td>1</td>\n",
       "      <td>0</td>\n",
       "      <td>0</td>\n",
       "      <td>0</td>\n",
       "      <td>0</td>\n",
       "    </tr>\n",
       "    <tr>\n",
       "      <th>4</th>\n",
       "      <td>0</td>\n",
       "      <td>0</td>\n",
       "      <td>1</td>\n",
       "      <td>0</td>\n",
       "      <td>0</td>\n",
       "      <td>0</td>\n",
       "      <td>0</td>\n",
       "      <td>0</td>\n",
       "    </tr>\n",
       "  </tbody>\n",
       "</table>\n",
       "</div>"
      ],
      "text/plain": [
       "   urlDrugName  effectiveness  sideEffects  condition  benefitsReview  \\\n",
       "0            0              0            1          0               0   \n",
       "1            0              0            1          0               0   \n",
       "2            0              0            1          0               0   \n",
       "3            0              0            1          1               0   \n",
       "4            0              0            1          0               0   \n",
       "\n",
       "   sideEffectsReview  commentsReview  rating_binary  \n",
       "0                  0               0              0  \n",
       "1                  0               0              0  \n",
       "2                  0               1              1  \n",
       "3                  0               0              0  \n",
       "4                  0               0              0  "
      ]
     },
     "execution_count": 3,
     "metadata": {},
     "output_type": "execute_result"
    }
   ],
   "source": [
    "data.pop('Unnamed: 0.1')\n",
    "data.pop('Unnamed: 0')\n",
    "data.head()"
   ]
  },
  {
   "cell_type": "code",
   "execution_count": 4,
   "metadata": {},
   "outputs": [
    {
     "data": {
      "text/plain": [
       "array([[0, 0, 1, ..., 0, 0, 0],\n",
       "       [0, 0, 1, ..., 0, 0, 0],\n",
       "       [0, 0, 1, ..., 0, 1, 1],\n",
       "       ...,\n",
       "       [0, 0, 1, ..., 0, 0, 0],\n",
       "       [0, 1, 1, ..., 0, 0, 1],\n",
       "       [0, 0, 1, ..., 0, 0, 0]])"
      ]
     },
     "execution_count": 4,
     "metadata": {},
     "output_type": "execute_result"
    }
   ],
   "source": [
    "train_data = data.values\n",
    "train_data"
   ]
  },
  {
   "cell_type": "code",
   "execution_count": 5,
   "metadata": {},
   "outputs": [],
   "source": [
    "order = np.random.permutation(len(train_data))\n",
    "split = int(len(train_data)*0.8)\n",
    "Train_X = train_data[order[:split]][:, :-1]\n",
    "Train_Y = train_data[order[:split]][:,-1]\n",
    "\n",
    "Test_X = train_data[order[split:]][:, :-1]\n",
    "Test_Y = train_data[order[split:]][:,-1]"
   ]
  },
  {
   "cell_type": "code",
   "execution_count": 6,
   "metadata": {},
   "outputs": [
    {
     "name": "stdout",
     "output_type": "stream",
     "text": [
      "(2485, 1)\n",
      "(2485, 7)\n"
     ]
    }
   ],
   "source": [
    "Train_Y= Train_Y.reshape(-1,1)\n",
    "print(Train_Y.shape)\n",
    "print(Train_X.shape )"
   ]
  },
  {
   "cell_type": "code",
   "execution_count": 33,
   "metadata": {},
   "outputs": [],
   "source": [
    "class Naive():\n",
    "    def __init__(self):\n",
    "        pass\n",
    "  \n",
    "    def prob_y(self, y):\n",
    "        return (np.sum(y==1))/self.m\n",
    "    \n",
    "    def prob_1_0(self,x,y):\n",
    "        full_count = []\n",
    "        for i in range(self.n):\n",
    "            count = 0\n",
    "            for j in range(self.m):\n",
    "                if x[j,i] ==1 and y[j] ==0:\n",
    "                    count+=1\n",
    "            full_count.append(count)\n",
    "        return (full_count)/np.sum(y==0)\n",
    "    \n",
    "    def prob_1_1(self,x,y):\n",
    "        full_count = []\n",
    "        for i in range(self.n):\n",
    "            count = 0\n",
    "            for j in range(self.m):\n",
    "                if x[j,i] ==1 and y[j] ==1:\n",
    "                    count+=1\n",
    "            full_count.append(count)\n",
    "        return (full_count)/np.sum(y==1)\n",
    "    \n",
    "    \n",
    "    def Bernoulli(self,x,prob):\n",
    "        return (prob**x )* ((1-prob)**(1-x))\n",
    "    \n",
    "    def fit(self,x,y):\n",
    "        self.m, self.n = x.shape\n",
    "        \n",
    "        self.prob10 = self.prob_1_0(Train_X,Train_Y)\n",
    "        self.prob11 = self.prob_1_1(Train_X,Train_Y)\n",
    "        self.proby = self.prob_y(Train_Y)\n",
    "        return self\n",
    "\n",
    "    def pred(self,x):\n",
    "        prediction = np.zeros((self.m,1))\n",
    "        for i in range(self.m):\n",
    "            prob0 = 1\n",
    "            prob1 = 1\n",
    "            for j in range(self.n):\n",
    "                self.prob0 = prob0*self.Bernoulli(x[i,j],self.prob10[j])\n",
    "                #print(prob_1_0.shape)\n",
    "                prob1 = prob1*self.Bernoulli(x[i,j],self.prob11[j])\n",
    "            prob0 = prob0 * (1-self.proby)\n",
    "            prob1 = prob1 * self.proby\n",
    "            prediction[i]=np.argmax([prob0,prob1])\n",
    "\n",
    "        return prediction\n",
    "    \n",
    "    \n",
    "    def accuracy(self,Test_Y):\n",
    "        Y_pred = self.pred(x)\n",
    "        Test_Y = Test_Y.reshape(-1,1)\n",
    "        return np.sum(Y_pred == Test_Y) * 100/ len(Test_Y)\n"
   ]
  },
  {
   "cell_type": "code",
   "execution_count": 34,
   "metadata": {},
   "outputs": [],
   "source": [
    "Model2 = Naive()"
   ]
  },
  {
   "cell_type": "code",
   "execution_count": 65,
   "metadata": {},
   "outputs": [
    {
     "data": {
      "text/plain": [
       "<__main__.Naive at 0x7fa51d281d30>"
      ]
     },
     "execution_count": 65,
     "metadata": {},
     "output_type": "execute_result"
    }
   ],
   "source": [
    "Model2.fit(Train_X, Train_Y)\n"
   ]
  },
  {
   "cell_type": "code",
   "execution_count": 66,
   "metadata": {},
   "outputs": [
    {
     "data": {
      "text/plain": [
       "array([[0.],\n",
       "       [0.],\n",
       "       [0.],\n",
       "       ...,\n",
       "       [0.],\n",
       "       [0.],\n",
       "       [0.]])"
      ]
     },
     "execution_count": 66,
     "metadata": {},
     "output_type": "execute_result"
    }
   ],
   "source": [
    "Model2.pred(Train_X)"
   ]
  },
  {
   "cell_type": "code",
   "execution_count": null,
   "metadata": {},
   "outputs": [],
   "source": []
  },
  {
   "cell_type": "code",
   "execution_count": null,
   "metadata": {},
   "outputs": [],
   "source": []
  },
  {
   "cell_type": "code",
   "execution_count": null,
   "metadata": {},
   "outputs": [],
   "source": []
  },
  {
   "cell_type": "code",
   "execution_count": 50,
   "metadata": {},
   "outputs": [],
   "source": [
    "def prob_y(y):\n",
    "    m,n = y.shape\n",
    "    py = (np.sum(y==1))/m\n",
    "    return py\n",
    "    "
   ]
  },
  {
   "cell_type": "code",
   "execution_count": 51,
   "metadata": {},
   "outputs": [
    {
     "data": {
      "text/plain": [
       "0.5678068410462777"
      ]
     },
     "execution_count": 51,
     "metadata": {},
     "output_type": "execute_result"
    }
   ],
   "source": [
    "prob_y(Train_Y)"
   ]
  },
  {
   "cell_type": "code",
   "execution_count": 52,
   "metadata": {},
   "outputs": [],
   "source": [
    "def prob_1_0(x,y):\n",
    "    m,n = x.shape\n",
    "    full_count = []\n",
    "    for i in range(n):\n",
    "        count = 0\n",
    "        for j in range(m):\n",
    "            if x[j,i] ==1 and y[j] ==0:\n",
    "                count+=1\n",
    "        full_count.append(count)\n",
    "    return (full_count)/np.sum(y==0)\n",
    "            \n",
    "    \n",
    "            "
   ]
  },
  {
   "cell_type": "code",
   "execution_count": 53,
   "metadata": {},
   "outputs": [
    {
     "data": {
      "text/plain": [
       "array([0.00651769, 0.25977654, 1.        , 0.00837989, 0.05865922,\n",
       "       0.09124767, 0.10986965])"
      ]
     },
     "execution_count": 53,
     "metadata": {},
     "output_type": "execute_result"
    }
   ],
   "source": [
    "prob_1_0(Train_X ,Train_Y)"
   ]
  },
  {
   "cell_type": "code",
   "execution_count": 54,
   "metadata": {},
   "outputs": [],
   "source": [
    "def prob_1_1(x,y):\n",
    "    m,n = x.shape\n",
    "    full_count = []\n",
    "    for i in range(n):\n",
    "        count = 0\n",
    "        for j in range(m):\n",
    "            if x[j,i] ==1 and y[j] ==1:\n",
    "                count+=1\n",
    "        full_count.append(count)\n",
    "    return (full_count)/np.sum(y==1)"
   ]
  },
  {
   "cell_type": "code",
   "execution_count": 55,
   "metadata": {},
   "outputs": [
    {
     "data": {
      "text/plain": [
       "array([0.01275691, 0.32459249, 1.        , 0.01700921, 0.11339476,\n",
       "       0.06449327, 0.1233168 ])"
      ]
     },
     "execution_count": 55,
     "metadata": {},
     "output_type": "execute_result"
    }
   ],
   "source": [
    "prob_1_1(Train_X ,Train_Y)"
   ]
  },
  {
   "cell_type": "code",
   "execution_count": 56,
   "metadata": {},
   "outputs": [],
   "source": [
    "def Bernoulli(x,prob):\n",
    "    return (prob**x )* ((1-prob)**(1-x))"
   ]
  },
  {
   "cell_type": "code",
   "execution_count": 57,
   "metadata": {},
   "outputs": [],
   "source": [
    "# #def fit(X,Y):\n",
    "#     prob1_0 = prob_1_0(x.values,Y)\n",
    "#     prob1_1 = prob_1_1(x.values,Y)\n",
    "#     proby = prob_y(Y)\n",
    "    \n",
    "#     return prob_1_0, prob_1_1, prob_y"
   ]
  },
  {
   "cell_type": "code",
   "execution_count": 58,
   "metadata": {},
   "outputs": [],
   "source": [
    "prob10 = prob_1_0(Train_X,Train_Y)\n",
    "prob11 = prob_1_1(Train_X,Train_Y)\n",
    "proby = prob_y(Train_Y)"
   ]
  },
  {
   "cell_type": "code",
   "execution_count": 59,
   "metadata": {},
   "outputs": [
    {
     "data": {
      "text/plain": [
       "0.5678068410462777"
      ]
     },
     "execution_count": 59,
     "metadata": {},
     "output_type": "execute_result"
    }
   ],
   "source": [
    "proby"
   ]
  },
  {
   "cell_type": "code",
   "execution_count": 60,
   "metadata": {},
   "outputs": [],
   "source": [
    "def pred(x,prob10, prob11,proby):\n",
    "    m,n = x.shape\n",
    "    prediction = np.zeros((m,1))\n",
    "    for i in range(m):\n",
    "        prob0 = 1\n",
    "        prob1 = 1\n",
    "        for j in range(n):\n",
    "            prob0 = prob0*Bernoulli(x[i,j],prob10[j])\n",
    "            #print(prob_1_0.shape)\n",
    "            prob1 = prob1*Bernoulli(x[i,j],prob11[j])\n",
    "        prob0 = prob0 * (1-proby)\n",
    "        prob1 = prob1 * proby\n",
    "        prediction[i]=np.argmax([prob0,prob1])\n",
    "        \n",
    "    return prediction\n",
    "            \n",
    "            "
   ]
  },
  {
   "cell_type": "code",
   "execution_count": 61,
   "metadata": {
    "scrolled": true
   },
   "outputs": [
    {
     "data": {
      "text/plain": [
       "583.0"
      ]
     },
     "execution_count": 61,
     "metadata": {},
     "output_type": "execute_result"
    }
   ],
   "source": [
    "prediction = pred(Test_X,prob10, prob11,proby)\n",
    "prediction.sum()"
   ]
  },
  {
   "cell_type": "code",
   "execution_count": 62,
   "metadata": {},
   "outputs": [],
   "source": [
    "#np.sum(prediction==y)"
   ]
  },
  {
   "cell_type": "code",
   "execution_count": 63,
   "metadata": {},
   "outputs": [
    {
     "data": {
      "text/plain": [
       "61.41479099678457"
      ]
     },
     "execution_count": 63,
     "metadata": {},
     "output_type": "execute_result"
    }
   ],
   "source": [
    "def accuracy(prediction,Test_Y):\n",
    "    Test_Y = Test_Y.reshape(-1,1)\n",
    "    m,n = Test_Y.shape\n",
    "    return np.sum(prediction == Test_Y) * 100/ len(Test_Y)\n",
    "\n",
    "accuracy(prediction,Test_Y)"
   ]
  },
  {
   "cell_type": "code",
   "execution_count": 64,
   "metadata": {},
   "outputs": [],
   "source": [
    "#np.sum(prediction==Test_Y.reshape(-1,1))/len(Test_Y)"
   ]
  },
  {
   "cell_type": "code",
   "execution_count": null,
   "metadata": {},
   "outputs": [],
   "source": []
  },
  {
   "cell_type": "code",
   "execution_count": null,
   "metadata": {},
   "outputs": [],
   "source": []
  }
 ],
 "metadata": {
  "kernelspec": {
   "display_name": "Python 3",
   "language": "python",
   "name": "python3"
  },
  "language_info": {
   "codemirror_mode": {
    "name": "ipython",
    "version": 3
   },
   "file_extension": ".py",
   "mimetype": "text/x-python",
   "name": "python",
   "nbconvert_exporter": "python",
   "pygments_lexer": "ipython3",
   "version": "3.7.3"
  }
 },
 "nbformat": 4,
 "nbformat_minor": 2
}
