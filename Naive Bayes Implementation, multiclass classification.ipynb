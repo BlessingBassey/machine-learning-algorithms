{
 "cells": [
  {
   "cell_type": "code",
   "execution_count": 1,
   "metadata": {},
   "outputs": [],
   "source": [
    "import numpy as np\n",
    "import pandas as pd\n",
    "import matplotlib.pyplot as plt\n",
    "%matplotlib inline\n",
    "import seaborn as sns"
   ]
  },
  {
   "cell_type": "code",
   "execution_count": 2,
   "metadata": {},
   "outputs": [
    {
     "data": {
      "text/html": [
       "<div>\n",
       "<style scoped>\n",
       "    .dataframe tbody tr th:only-of-type {\n",
       "        vertical-align: middle;\n",
       "    }\n",
       "\n",
       "    .dataframe tbody tr th {\n",
       "        vertical-align: top;\n",
       "    }\n",
       "\n",
       "    .dataframe thead th {\n",
       "        text-align: right;\n",
       "    }\n",
       "</style>\n",
       "<table border=\"1\" class=\"dataframe\">\n",
       "  <thead>\n",
       "    <tr style=\"text-align: right;\">\n",
       "      <th></th>\n",
       "      <th>Unnamed: 0</th>\n",
       "      <th>Unnamed: 0.1</th>\n",
       "      <th>urlDrugName</th>\n",
       "      <th>effectiveness</th>\n",
       "      <th>sideEffects</th>\n",
       "      <th>condition</th>\n",
       "      <th>benefitsReview</th>\n",
       "      <th>sideEffectsReview</th>\n",
       "      <th>commentsReview</th>\n",
       "      <th>rating_binary</th>\n",
       "    </tr>\n",
       "  </thead>\n",
       "  <tbody>\n",
       "    <tr>\n",
       "      <th>0</th>\n",
       "      <td>0</td>\n",
       "      <td>2202</td>\n",
       "      <td>0</td>\n",
       "      <td>0</td>\n",
       "      <td>1</td>\n",
       "      <td>0</td>\n",
       "      <td>0</td>\n",
       "      <td>0</td>\n",
       "      <td>0</td>\n",
       "      <td>0</td>\n",
       "    </tr>\n",
       "    <tr>\n",
       "      <th>1</th>\n",
       "      <td>1</td>\n",
       "      <td>3117</td>\n",
       "      <td>0</td>\n",
       "      <td>0</td>\n",
       "      <td>1</td>\n",
       "      <td>0</td>\n",
       "      <td>0</td>\n",
       "      <td>0</td>\n",
       "      <td>0</td>\n",
       "      <td>0</td>\n",
       "    </tr>\n",
       "    <tr>\n",
       "      <th>2</th>\n",
       "      <td>2</td>\n",
       "      <td>1146</td>\n",
       "      <td>0</td>\n",
       "      <td>0</td>\n",
       "      <td>1</td>\n",
       "      <td>0</td>\n",
       "      <td>0</td>\n",
       "      <td>0</td>\n",
       "      <td>1</td>\n",
       "      <td>1</td>\n",
       "    </tr>\n",
       "    <tr>\n",
       "      <th>3</th>\n",
       "      <td>3</td>\n",
       "      <td>3947</td>\n",
       "      <td>0</td>\n",
       "      <td>0</td>\n",
       "      <td>1</td>\n",
       "      <td>1</td>\n",
       "      <td>0</td>\n",
       "      <td>0</td>\n",
       "      <td>0</td>\n",
       "      <td>0</td>\n",
       "    </tr>\n",
       "    <tr>\n",
       "      <th>4</th>\n",
       "      <td>4</td>\n",
       "      <td>1951</td>\n",
       "      <td>0</td>\n",
       "      <td>0</td>\n",
       "      <td>1</td>\n",
       "      <td>0</td>\n",
       "      <td>0</td>\n",
       "      <td>0</td>\n",
       "      <td>0</td>\n",
       "      <td>0</td>\n",
       "    </tr>\n",
       "  </tbody>\n",
       "</table>\n",
       "</div>"
      ],
      "text/plain": [
       "   Unnamed: 0  Unnamed: 0.1  urlDrugName  effectiveness  sideEffects  \\\n",
       "0           0          2202            0              0            1   \n",
       "1           1          3117            0              0            1   \n",
       "2           2          1146            0              0            1   \n",
       "3           3          3947            0              0            1   \n",
       "4           4          1951            0              0            1   \n",
       "\n",
       "   condition  benefitsReview  sideEffectsReview  commentsReview  rating_binary  \n",
       "0          0               0                  0               0              0  \n",
       "1          0               0                  0               0              0  \n",
       "2          0               0                  0               1              1  \n",
       "3          1               0                  0               0              0  \n",
       "4          0               0                  0               0              0  "
      ]
     },
     "execution_count": 2,
     "metadata": {},
     "output_type": "execute_result"
    }
   ],
   "source": [
    "data = pd.read_csv('clean.csv')\n",
    "data.head()"
   ]
  },
  {
   "cell_type": "code",
   "execution_count": 3,
   "metadata": {},
   "outputs": [
    {
     "data": {
      "text/html": [
       "<div>\n",
       "<style scoped>\n",
       "    .dataframe tbody tr th:only-of-type {\n",
       "        vertical-align: middle;\n",
       "    }\n",
       "\n",
       "    .dataframe tbody tr th {\n",
       "        vertical-align: top;\n",
       "    }\n",
       "\n",
       "    .dataframe thead th {\n",
       "        text-align: right;\n",
       "    }\n",
       "</style>\n",
       "<table border=\"1\" class=\"dataframe\">\n",
       "  <thead>\n",
       "    <tr style=\"text-align: right;\">\n",
       "      <th></th>\n",
       "      <th>urlDrugName</th>\n",
       "      <th>effectiveness</th>\n",
       "      <th>sideEffects</th>\n",
       "      <th>condition</th>\n",
       "      <th>benefitsReview</th>\n",
       "      <th>sideEffectsReview</th>\n",
       "      <th>commentsReview</th>\n",
       "      <th>rating_binary</th>\n",
       "    </tr>\n",
       "  </thead>\n",
       "  <tbody>\n",
       "    <tr>\n",
       "      <th>0</th>\n",
       "      <td>0</td>\n",
       "      <td>0</td>\n",
       "      <td>1</td>\n",
       "      <td>0</td>\n",
       "      <td>0</td>\n",
       "      <td>0</td>\n",
       "      <td>0</td>\n",
       "      <td>0</td>\n",
       "    </tr>\n",
       "    <tr>\n",
       "      <th>1</th>\n",
       "      <td>0</td>\n",
       "      <td>0</td>\n",
       "      <td>1</td>\n",
       "      <td>0</td>\n",
       "      <td>0</td>\n",
       "      <td>0</td>\n",
       "      <td>0</td>\n",
       "      <td>0</td>\n",
       "    </tr>\n",
       "    <tr>\n",
       "      <th>2</th>\n",
       "      <td>0</td>\n",
       "      <td>0</td>\n",
       "      <td>1</td>\n",
       "      <td>0</td>\n",
       "      <td>0</td>\n",
       "      <td>0</td>\n",
       "      <td>1</td>\n",
       "      <td>1</td>\n",
       "    </tr>\n",
       "    <tr>\n",
       "      <th>3</th>\n",
       "      <td>0</td>\n",
       "      <td>0</td>\n",
       "      <td>1</td>\n",
       "      <td>1</td>\n",
       "      <td>0</td>\n",
       "      <td>0</td>\n",
       "      <td>0</td>\n",
       "      <td>0</td>\n",
       "    </tr>\n",
       "    <tr>\n",
       "      <th>4</th>\n",
       "      <td>0</td>\n",
       "      <td>0</td>\n",
       "      <td>1</td>\n",
       "      <td>0</td>\n",
       "      <td>0</td>\n",
       "      <td>0</td>\n",
       "      <td>0</td>\n",
       "      <td>0</td>\n",
       "    </tr>\n",
       "  </tbody>\n",
       "</table>\n",
       "</div>"
      ],
      "text/plain": [
       "   urlDrugName  effectiveness  sideEffects  condition  benefitsReview  \\\n",
       "0            0              0            1          0               0   \n",
       "1            0              0            1          0               0   \n",
       "2            0              0            1          0               0   \n",
       "3            0              0            1          1               0   \n",
       "4            0              0            1          0               0   \n",
       "\n",
       "   sideEffectsReview  commentsReview  rating_binary  \n",
       "0                  0               0              0  \n",
       "1                  0               0              0  \n",
       "2                  0               1              1  \n",
       "3                  0               0              0  \n",
       "4                  0               0              0  "
      ]
     },
     "execution_count": 3,
     "metadata": {},
     "output_type": "execute_result"
    }
   ],
   "source": [
    "data.pop('Unnamed: 0.1')\n",
    "data.pop('Unnamed: 0')\n",
    "data.head()"
   ]
  },
  {
   "cell_type": "code",
   "execution_count": 4,
   "metadata": {},
   "outputs": [],
   "source": [
    "train_data = data.values"
   ]
  },
  {
   "cell_type": "code",
   "execution_count": 5,
   "metadata": {},
   "outputs": [],
   "source": [
    "X, y = train_data[:, :-1], train_data[:, -1]\n",
    "def split_data(X, y, percent=1.0):\n",
    "    order = np.random.permutation(len(X))\n",
    "    split = int(len(X)*percent)\n",
    "    X_shuffled = X[order]\n",
    "    y_shuffled = y[order]\n",
    "        \n",
    "    Train_X = X_shuffled[:split]\n",
    "    Train_Y = y_shuffled[:split]\n",
    "    \n",
    "    Test_X = X_shuffled[split:]\n",
    "    Test_Y = y_shuffled[split:]\n",
    "    \n",
    "    return Train_X, Train_Y, Test_X, Test_Y"
   ]
  },
  {
   "cell_type": "code",
   "execution_count": 6,
   "metadata": {},
   "outputs": [],
   "source": [
    "X10, y10, _, _ = split_data(X, y, percent=0.1)"
   ]
  },
  {
   "cell_type": "code",
   "execution_count": 7,
   "metadata": {},
   "outputs": [],
   "source": [
    "Train_X, Train_Y, Test_X, Test_Y = split_data(X10, y10, percent=0.8)"
   ]
  },
  {
   "cell_type": "code",
   "execution_count": 8,
   "metadata": {},
   "outputs": [
    {
     "data": {
      "text/plain": [
       "((248, 7), (248,))"
      ]
     },
     "execution_count": 8,
     "metadata": {},
     "output_type": "execute_result"
    }
   ],
   "source": [
    "Train_X.shape, Train_Y.shape"
   ]
  },
  {
   "cell_type": "code",
   "execution_count": 9,
   "metadata": {},
   "outputs": [],
   "source": [
    "class Naive:\n",
    "    def __init__(self):\n",
    "        pass\n",
    "        \n",
    "    def phi_of_y(self,Y):\n",
    "        \n",
    "        m = Train_Y.shape[0]\n",
    "        phi_y = []\n",
    "        for c in self.classes:\n",
    "            phi_y_c = (np.sum(Y == c))/m\n",
    "            phi_y.append(phi_y_c)\n",
    "        return phi_y\n",
    "\n",
    "    \n",
    "    def phi_of_x(self,X,Y):\n",
    "        m,n = X.shape\n",
    "        phi_x = np.zeros((self.n,len(self.classes)))\n",
    "        for j in range(self.n):\n",
    "            for c in self.classes:\n",
    "                phi_x_y_class = ((X[: ,j])@(Y==c))\n",
    "                phi_x[j,c] = phi_x_y_class\n",
    "        return (phi_x + 1) /(np.sum(Y==c) + n)\n",
    "    \n",
    "    \n",
    "    def fit(self, Train_X, Train_Y):\n",
    "            self.classes = set(Train_Y)\n",
    "            self.m, self.n = Train_X.shape\n",
    "            self.phi_y = self.phi_of_y(Train_Y)\n",
    "            self.phi_x = self.phi_of_x(Train_X,Train_Y)\n",
    "            self.pred = self.prediction(Test_X,self.phi_x,self.phi_y)\n",
    "            return self \n",
    "\n",
    "           \n",
    "    def prediction(self,Test_X,phi_X,phi_Y):\n",
    "        m,n = Test_X.shape\n",
    "        phi_X = self.phi_x\n",
    "        phi_Y = self.phi_y        \n",
    "        num_classes = len(self.classes)\n",
    "\n",
    "        result = np.zeros((m,num_classes))\n",
    "        for i in range(m):\n",
    "            for c in range(num_classes):\n",
    "                px_y = np.zeros(n)\n",
    "                x_i = Test_X[i]\n",
    "                px_y[x_i==1] = np.log(phi_X[x_i ==1,c])\n",
    "                px_y[x_i==0] = np.log(1-phi_X[x_i ==0,c])\n",
    "                result[i,c] = np.sum(px_y) + np.log(phi_Y[c])\n",
    "        return result                  \n",
    "\n",
    "    \n",
    "    def accuracy(self,Test_Y):\n",
    "        Test_Y = Test_Y\n",
    "        big = np.argmax(self.pred,axis = 1)\n",
    "    #m,n = Test_Y.shape\n",
    "        return np.sum(big == Test_Y) * 100/ len(Test_Y)\n",
    "\n",
    "#     def __repr__(self):\n",
    "#         return 'Hi'\n",
    "            "
   ]
  },
  {
   "cell_type": "code",
   "execution_count": 10,
   "metadata": {},
   "outputs": [],
   "source": [
    "model2 = Naive()"
   ]
  },
  {
   "cell_type": "code",
   "execution_count": 11,
   "metadata": {},
   "outputs": [
    {
     "data": {
      "text/plain": [
       "66.12903225806451"
      ]
     },
     "execution_count": 11,
     "metadata": {},
     "output_type": "execute_result"
    }
   ],
   "source": [
    "model2.fit(Train_X, Train_Y)\n",
    "model2.accuracy(Test_Y)"
   ]
  },
  {
   "cell_type": "code",
   "execution_count": null,
   "metadata": {},
   "outputs": [],
   "source": []
  },
  {
   "cell_type": "code",
   "execution_count": null,
   "metadata": {},
   "outputs": [],
   "source": []
  },
  {
   "cell_type": "code",
   "execution_count": null,
   "metadata": {},
   "outputs": [],
   "source": []
  },
  {
   "cell_type": "code",
   "execution_count": null,
   "metadata": {},
   "outputs": [],
   "source": []
  },
  {
   "cell_type": "code",
   "execution_count": null,
   "metadata": {},
   "outputs": [],
   "source": []
  },
  {
   "cell_type": "code",
   "execution_count": null,
   "metadata": {},
   "outputs": [],
   "source": []
  },
  {
   "cell_type": "code",
   "execution_count": null,
   "metadata": {},
   "outputs": [],
   "source": []
  }
 ],
 "metadata": {
  "kernelspec": {
   "display_name": "Python 3",
   "language": "python",
   "name": "python3"
  },
  "language_info": {
   "codemirror_mode": {
    "name": "ipython",
    "version": 3
   },
   "file_extension": ".py",
   "mimetype": "text/x-python",
   "name": "python",
   "nbconvert_exporter": "python",
   "pygments_lexer": "ipython3",
   "version": "3.7.3"
  }
 },
 "nbformat": 4,
 "nbformat_minor": 2
}
